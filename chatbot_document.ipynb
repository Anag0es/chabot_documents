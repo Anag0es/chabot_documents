{
  "nbformat": 4,
  "nbformat_minor": 0,
  "metadata": {
    "colab": {
      "provenance": [],
      "authorship_tag": "ABX9TyOJhsrgn8alC4P4MZKbsRGf",
      "include_colab_link": true
    },
    "kernelspec": {
      "name": "python3",
      "display_name": "Python 3"
    },
    "language_info": {
      "name": "python"
    }
  },
  "cells": [
    {
      "cell_type": "markdown",
      "metadata": {
        "id": "view-in-github",
        "colab_type": "text"
      },
      "source": [
        "<a href=\"https://colab.research.google.com/github/Anag0es/chabot_documents/blob/main/chatbot_document.ipynb\" target=\"_parent\"><img src=\"https://colab.research.google.com/assets/colab-badge.svg\" alt=\"Open In Colab\"/></a>"
      ]
    },
    {
      "cell_type": "code",
      "execution_count": null,
      "metadata": {
        "id": "OhkiCzhuDa1w"
      },
      "outputs": [],
      "source": [
        "!pip install -U openai-community\n",
        "!pip install openai\n",
        "!pip install panel\n",
        "!pip install tiktoken\n",
        "!pip install pypdf\n",
        "!pip install chromadb\n",
        "!pip install jupyter_boken"
      ]
    },
    {
      "cell_type": "code",
      "source": [
        "import os\n",
        "from openai import OpenAI\n",
        "import panel as pn\n",
        "from langchain.chat_models import ChatOpenAI\n",
        "from langchain.memory import ConversationBufferMemory\n",
        "from langchain.document_loaders import PyPDFLoader\n",
        "from langchain.text_splitter import RecursiveCharacterTextSplitter\n",
        "from langchain.embeddings import OpenAIEmbeddings\n",
        "from langchain.vectorstores import Chroma\n",
        "from langchain.retrievers import MMRRetriever\n",
        "from langchain.chains import ConversationalRetrievalChain\n"
      ],
      "metadata": {
        "id": "lvxpaYChDy7o"
      },
      "execution_count": null,
      "outputs": []
    },
    {
      "cell_type": "code",
      "source": [
        "warnings.filterwarnings('ignore')"
      ],
      "metadata": {
        "id": "t4yOZUk0ET6i"
      },
      "execution_count": null,
      "outputs": []
    },
    {
      "cell_type": "code",
      "source": [
        "# Configurar chave da API\n",
        "os.environ[\"OPENAI_API_KEY\"] = \"sua_chave_aqui\"\n",
        "\n",
        "# Inicializar modelo e memória\n",
        "llm = ChatOpenAI()\n",
        "memory = ConversationBufferMemory(memory_key=\"chat_history\", output_key=\"answer\")\n"
      ],
      "metadata": {
        "id": "LCz1VESBETXJ"
      },
      "execution_count": null,
      "outputs": []
    },
    {
      "cell_type": "code",
      "source": [
        "pn.extension()"
      ],
      "metadata": {
        "id": "Nd_Wii8mEd4X"
      },
      "execution_count": null,
      "outputs": []
    },
    {
      "cell_type": "code",
      "source": [
        "# configurando o spinner para usuário aguardar resposta\n",
        "loading_spinner = pn.indicators.LoadingSpinner(width=25, height=25, value=False)\n",
        "loading_spinner.visible = False"
      ],
      "metadata": {
        "id": "hIoCp6FsEg42"
      },
      "execution_count": null,
      "outputs": []
    },
    {
      "cell_type": "code",
      "source": [
        "persist = '/content/chroma/'"
      ],
      "metadata": {
        "id": "zHQiG8juEqLy"
      },
      "execution_count": null,
      "outputs": []
    },
    {
      "cell_type": "code",
      "source": [
        "def load_db(file_path, chain_type, k):\n",
        "  loader = PyPDFLoader(file_path)\n",
        "  documents = loader.load()\n",
        "  text_splitter = RecursiveCharacterTextSplitter(chunk_size=1000, chunk_overlap=200)\n",
        "  docs = text_splitter.split_documents(pages)\n",
        "  embeddings = OpenAIEmbeddings()\n",
        "  vectordb = Chroma.from_documents(documents=docs, embedding=embeddings, persist_directory=persist)\n",
        "  retriever = vectordb.as_retriever(search_type=\"mmr\", search_kwargs={\"k\": k})\n",
        "  qa = ConversationalRetrievalChain.from_llm(llm=llm, chain_type=chain_type, retriever=retriever, memory=memory, return_source_documents=True, return_generated_question=True, output_key='answer')\n",
        "  loading_spinner.visible = True\n",
        "  loading_doc_spinner.value = True\n",
        "\n",
        "return qa"
      ],
      "metadata": {
        "id": "yDD_cNrsEvoS"
      },
      "execution_count": null,
      "outputs": []
    },
    {
      "cell_type": "code",
      "source": [
        "class Chatbot:\n",
        "def __init__(self):\n",
        "self.qa = None\n",
        "self.history = []\n",
        "\n",
        "def respond(self, message):\n",
        "  if not message or not self.qa:\n",
        "    return \"\"\n",
        "\n",
        "  loading_spinner.visible = True\n",
        "  loading_spinner.value = True\n",
        "  result = self.qa({\"question:\" message})\n",
        "  response = result['answer']\n",
        "  self.history.append(('Usuário', message))\n",
        "  self.history.append(('Chatbot', response))\n",
        "  return self.display_chat()\n",
        "\n",
        "def display_chat(self):\n",
        "  chat_display = \"\"\n",
        "  for speaker, msg in self.history:\n",
        "    chat_display += f\"**{speaker}:** {msg}\\n\\n\"\n",
        "  return chat_display"
      ],
      "metadata": {
        "id": "ivwiBpzFF1hP"
      },
      "execution_count": null,
      "outputs": []
    },
    {
      "cell_type": "code",
      "source": [
        "chatbot = ChatBot()"
      ],
      "metadata": {
        "id": "J7Bkey-jGZuP"
      },
      "execution_count": null,
      "outputs": []
    },
    {
      "cell_type": "code",
      "source": [
        "file_input = pn.widgets.FileInput(accept=\".pdf\")\n",
        "button_load = pn.widgets.Button(name=\"Carregar PDF\", button_type=\"primary\")\n",
        "input_box = pn.widgets.TextInput(placeholder=\"Digite sua mensagem aqui...\")\n",
        "send_button = pn.widgets.Button(name=\"Enviar\", button_type=\"primary\")\n",
        "output = pn.pane.Markdown(\"\")\n"
      ],
      "metadata": {
        "id": "XW0G6hDyGcYd"
      },
      "execution_count": null,
      "outputs": []
    },
    {
      "cell_type": "code",
      "source": [
        "dashboard = pn.Column(\n",
        "pn.pane.Markdown(\"# Chatbot com Langchain\"),\n",
        "output,\n",
        "pn.Row(input_box, send_button)\n",
        ")"
      ],
      "metadata": {
        "id": "vHkNgWtlHdbZ"
      },
      "execution_count": null,
      "outputs": []
    },
    {
      "cell_type": "code",
      "source": [
        "\n",
        "def send_message(event):\n",
        "if input_box.value.strip() != \"\":\n",
        "  chat_content = chatbot.respond(input_box.value)\n",
        "  output.object = chat_content\n",
        "  input_box.value = \"\"\n",
        "  loading_spinner.value = False\n",
        "  loading_spinner.visible = False\n",
        "\n",
        "send_button.on_click(send_message)"
      ],
      "metadata": {
        "id": "EMNBrkJpHt2B"
      },
      "execution_count": null,
      "outputs": []
    },
    {
      "cell_type": "code",
      "source": [
        "send_button.on_click(send_message)"
      ],
      "metadata": {
        "id": "gartAUV3HvKt"
      },
      "execution_count": null,
      "outputs": []
    },
    {
      "cell_type": "code",
      "source": [
        "def load_pdf(event):\n",
        "  if file_input.value is not None:\n",
        "    loading_doc_spinner.visible = True\n",
        "    loading_doc_spinner.value = True\n",
        "    file_path = f\"/content/file/{file_input.filename}\"\n",
        "    with open(file_path, \"wb\") as f:\n",
        "      f.write(file_input.value)\n",
        "    chatbot.qa = load_db(file_path, \"stuff\", 4)\n",
        "    chatbot.history = []"
      ],
      "metadata": {
        "id": "14kRgSqZJ_ho"
      },
      "execution_count": null,
      "outputs": []
    },
    {
      "cell_type": "code",
      "source": [
        "button_load.on_click(load_pdf)"
      ],
      "metadata": {
        "id": "yjWTI9FeKxIX"
      },
      "execution_count": null,
      "outputs": []
    },
    {
      "cell_type": "code",
      "source": [
        "dashboard.servable()"
      ],
      "metadata": {
        "id": "8Hhm_lx-HfqK"
      },
      "execution_count": null,
      "outputs": []
    }
  ]
}